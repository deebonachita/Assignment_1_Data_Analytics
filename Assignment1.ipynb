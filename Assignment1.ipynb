{
 "cells": [
  {
   "cell_type": "markdown",
   "id": "b97b0e89-b999-4062-8538-d73c76445129",
   "metadata": {},
   "source": [
    "# Assignment 1 - Data Analytics"
   ]
  },
  {
   "cell_type": "markdown",
   "id": "c55f74ef-27bd-4058-9c7d-ddc6121eab80",
   "metadata": {},
   "source": [
    "Basilisco, Farah Jane & Bonachita, Clybel Djen"
   ]
  },
  {
   "cell_type": "markdown",
   "id": "ce99ab09-e652-43fd-b386-adf4bbfe88b9",
   "metadata": {},
   "source": [
    "---"
   ]
  },
  {
   "cell_type": "markdown",
   "id": "417e9ccf-ba64-4163-a27c-af103a1c794e",
   "metadata": {},
   "source": [
    "### Key Procedures (Balaned Risk Set Matching)"
   ]
  },
  {
   "cell_type": "markdown",
   "id": "c298bcaf-637e-4ee5-b5a9-05115303e6a9",
   "metadata": {},
   "source": [
    "- The script loads patient data, calculates Mahalanobis distances, and applies optimal risk set matching.\n",
    "- Uses the Hungarian algorithm (linear sum assignment) for optimal pair matching.\n",
    "- Implements Wilcoxon signed-rank test for sensitivity analysis.\n",
    "- Can be expanded with network flow optimization for larger datasets"
   ]
  },
  {
   "cell_type": "markdown",
   "id": "99858d12-18c0-4027-af61-aaa8791ef836",
   "metadata": {},
   "source": [
    "### Python Implementation"
   ]
  },
  {
   "cell_type": "code",
   "execution_count": null,
   "id": "abf0c6bd-e6cb-4e48-bd93-b470fdd32887",
   "metadata": {},
   "outputs": [],
   "source": [
    "import numpy as np\n",
    "import pandas as pd\n",
    "import matplotlib.pyplot as plt\n",
    "import seaborn as sns\n",
    "from scipy.spatial.distance import cdist\n",
    "from scipy.optimize import linear_sum_assignment\n",
    "from scipy.stats import wilcoxon\n",
    "\n",
    "# Step 1: Load patient data\n",
    "def load_data(file_path):\n",
    "    \"\"\"Load patient data with treatment times and symptoms.\"\"\"\n",
    "    return pd.read_csv(file_path)\n",
    "\n",
    "# Step 2: Compute distance matrix\n",
    "def compute_distance_matrix(data, symptom_cols):\n",
    "    \"\"\"Compute Mahalanobis distance between patients based on symptoms.\"\"\"\n",
    "    symptoms = data[symptom_cols].values\n",
    "    cov_matrix = np.cov(symptoms.T)\n",
    "    inv_cov = np.linalg.inv(cov_matrix)\n",
    "    distance_matrix = cdist(symptoms, symptoms, metric='mahalanobis', VI=inv_cov)\n",
    "    return distance_matrix\n",
    "\n",
    "# Step 3: Perform risk set matching using Hungarian Algorithm\n",
    "def match_patients(data, treatment_col, symptom_cols):\n",
    "    \"\"\"Match treated and control patients using optimal pair matching.\"\"\"\n",
    "    treated = data[data[treatment_col] == 1]\n",
    "    control = data[data[treatment_col] == 0]\n",
    "\n",
    "    distance_matrix = compute_distance_matrix(data, symptom_cols)\n",
    "    \n",
    "    treated_idx = treated.index.values\n",
    "    control_idx = control.index.values\n",
    "    cost_matrix = distance_matrix[np.ix_(treated_idx, control_idx)]\n",
    "    \n",
    "    row_ind, col_ind = linear_sum_assignment(cost_matrix)\n",
    "    \n",
    "    matches = [(treated_idx[i], control_idx[j]) for i, j in zip(row_ind, col_ind)]\n",
    "    \n",
    "    return matches\n",
    "\n",
    "# Step 4: Sensitivity Analysis\n",
    "def sensitivity_analysis(matches, data, outcome_col):\n",
    "    \"\"\"Perform Wilcoxon signed-rank test to compare matched pairs.\"\"\"\n",
    "    treated_outcomes = [data.loc[t, outcome_col] for t, c in matches]\n",
    "    control_outcomes = [data.loc[c, outcome_col] for t, c in matches]\n",
    "\n",
    "    stat, p_value = wilcoxon(treated_outcomes, control_outcomes)\n",
    "    return stat, p_value\n",
    "\n",
    "# Step 5: Visualization of Matched Pairs\n",
    "def plot_matched_pairs(matches, data, symptom_x=\"pain\", symptom_y=\"urgency\"):\n",
    "    \"\"\"Visualize matched pairs in a scatter plot.\"\"\"\n",
    "    plt.figure(figsize=(10, 6))\n",
    "    sns.set(style=\"whitegrid\")\n",
    "\n",
    "    treated_x = []\n",
    "    treated_y = []\n",
    "    control_x = []\n",
    "    control_y = []\n",
    "\n",
    "    for t, c in matches:\n",
    "        treated_x.append(data.loc[t, symptom_x])\n",
    "        treated_y.append(data.loc[t, symptom_y])\n",
    "        control_x.append(data.loc[c, symptom_x])\n",
    "        control_y.append(data.loc[c, symptom_y])\n",
    "        plt.plot([data.loc[t, symptom_x], data.loc[c, symptom_x]],\n",
    "                 [data.loc[t, symptom_y], data.loc[c, symptom_y]], \n",
    "                 'gray', linestyle=\"dotted\", alpha=0.6)\n",
    "\n",
    "    plt.scatter(treated_x, treated_y, color='red', label=\"Treated Patients\", alpha=0.7)\n",
    "    plt.scatter(control_x, control_y, color='blue', label=\"Control Patients\", alpha=0.7)\n",
    "\n",
    "    plt.xlabel(symptom_x.capitalize())\n",
    "    plt.ylabel(symptom_y.capitalize())\n",
    "    plt.title(\"Matched Pairs: Treated vs. Control\")\n",
    "    plt.legend()\n",
    "    plt.show()\n",
    "\n",
    "# Example usage\n",
    "if __name__ == \"__main__\":\n",
    "    data = load_data(\"patient_data.csv\")\n",
    "    symptom_cols = [\"pain\", \"urgency\", \"frequency\"]\n",
    "    \n",
    "    matches = match_patients(data, treatment_col=\"treated\", symptom_cols=symptom_cols)\n",
    "    stat, p_value = sensitivity_analysis(matches, data, outcome_col=\"post_treatment_pain\")\n",
    "\n",
    "    print(f\"Wilcoxon Test Statistic: {stat}, P-value: {p_value}\")\n",
    "\n",
    "    # Plot matched pairs\n",
    "    plot_matched_pairs(matches, data, symptom_x=\"pain\", symptom_y=\"urgency\")\n"
   ]
  }
 ],
 "metadata": {
  "kernelspec": {
   "display_name": "Python [conda env:base] *",
   "language": "python",
   "name": "conda-base-py"
  },
  "language_info": {
   "codemirror_mode": {
    "name": "ipython",
    "version": 3
   },
   "file_extension": ".py",
   "mimetype": "text/x-python",
   "name": "python",
   "nbconvert_exporter": "python",
   "pygments_lexer": "ipython3",
   "version": "3.12.7"
  }
 },
 "nbformat": 4,
 "nbformat_minor": 5
}
